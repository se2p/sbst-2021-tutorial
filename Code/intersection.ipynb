{
 "metadata": {
  "language_info": {
   "codemirror_mode": {
    "name": "ipython",
    "version": 3
   },
   "file_extension": ".py",
   "mimetype": "text/x-python",
   "name": "python",
   "nbconvert_exporter": "python",
   "pygments_lexer": "ipython3",
   "version": "3.8.10"
  },
  "orig_nbformat": 2,
  "kernelspec": {
   "name": "python3810jvsc74a57bd0fe1b80ee75ebc9faa42b305e6b3a192b75d563c20a5b12119379c065e0546886",
   "display_name": "Python 3.8.10 64-bit ('bng': venv)"
  }
 },
 "nbformat": 4,
 "nbformat_minor": 2,
 "cells": [
  {
   "cell_type": "code",
   "execution_count": 1,
   "metadata": {},
   "outputs": [],
   "source": [
    "from beamngpy import BeamNGpy, Scenario, Vehicle\n",
    "from beamngpy.sensors import Damage\n",
    "import numpy as np\n",
    "from time import sleep, time"
   ]
  },
  {
   "source": [
    "# Collision Avoidance"
   ],
   "cell_type": "markdown",
   "metadata": {}
  },
  {
   "source": [
    "## Setting up Simulation Parameters "
   ],
   "cell_type": "markdown",
   "metadata": {}
  },
  {
   "cell_type": "code",
   "execution_count": 2,
   "metadata": {},
   "outputs": [],
   "source": [
    "beamng = BeamNGpy('localhost', 64256, user='D:/ros', home='D:/BeamNG/game')\n",
    "bng = beamng.open(launch=False)\n",
    "bng.set_steps_per_second(50)\n",
    "bng.set_deterministic()"
   ]
  },
  {
   "source": [
    "## Scenario Definition"
   ],
   "cell_type": "markdown",
   "metadata": {}
  },
  {
   "cell_type": "code",
   "execution_count": 3,
   "metadata": {},
   "outputs": [],
   "source": [
    "scenario = Scenario('west_coast_usa', 'SBST: Intersection')\n",
    "\n",
    "ego = Vehicle('ego', model='etk800', color='black')\n",
    "damage = Damage()\n",
    "ego.attach_sensor('damage', damage)\n",
    "pos = (-717.12, 100.90, 118.65)\n",
    "rot = (0, 0, 0.919, -0.395)\n",
    "scenario.add_vehicle(ego, pos=pos, rot=None, rot_quat=rot)\n",
    "\n",
    "obstacle = Vehicle('obstacle', model='etk800', color='white')\n",
    "damage = Damage()\n",
    "obstacle.attach_sensor('damage', damage)\n",
    "pos = (-698.61, 313.43, 131.71)\n",
    "rot = (-0.082, -0.031, -0.410, 0.908)\n",
    "scenario.add_vehicle(obstacle, pos=pos, rot=None, rot_quat=rot)\n",
    "scenario.make(bng)"
   ]
  },
  {
   "source": [
    "## Scenario Execution"
   ],
   "cell_type": "markdown",
   "metadata": {}
  },
  {
   "cell_type": "code",
   "execution_count": 4,
   "metadata": {},
   "outputs": [],
   "source": [
    "bng.load_scenario(scenario)\n",
    "bng.start_scenario()\n",
    "\n",
    "meter_per_second = 16\n",
    "\n",
    "bng.pause()\n",
    "bng.switch_vehicle(ego)\n",
    "ego.ai_set_mode('manual')\n",
    "ego.ai_set_waypoint('wpTown_6')\n",
    "ego.ai_set_waypoint('wpTown_18')\n",
    "ego.ai_set_speed(meter_per_second)\n",
    "bng.resume()\n",
    "\n",
    "sleep(3)\n",
    "\n",
    "bng.pause()\n",
    "obstacle.ai_set_mode('manual')\n",
    "obstacle.ai_set_waypoint('wpTown_2')\n",
    "obstacle.ai_set_waypoint('wpTown_3')\n",
    "obstacle.ai_set_speed(meter_per_second)\n",
    "bng.resume()"
   ]
  },
  {
   "source": [
    "### Ego Vehicle Emergency Break"
   ],
   "cell_type": "markdown",
   "metadata": {}
  },
  {
   "cell_type": "code",
   "execution_count": 5,
   "metadata": {},
   "outputs": [],
   "source": [
    "velocity = meter_per_second\n",
    "ego.ai_set_mode('disabled')\n",
    "ego.control(brake=1)\n",
    "while velocity > 0.1:\n",
    "    ego.poll_sensors()\n",
    "    velocity = np.linalg.norm(ego.sensors['state'].data['vel'])\n",
    "ego.control(brake=0)"
   ]
  },
  {
   "source": [
    "## Damage Based Test Oracle"
   ],
   "cell_type": "markdown",
   "metadata": {}
  },
  {
   "cell_type": "code",
   "execution_count": 6,
   "metadata": {},
   "outputs": [
    {
     "output_type": "stream",
     "name": "stdout",
     "text": [
      "ego vehicle damage: 0\nobstacle vehicle damage: 0\n"
     ]
    }
   ],
   "source": [
    "obstacle.poll_sensors()\n",
    "ego.poll_sensors()\n",
    "\n",
    "d = ego.sensors['damage'].data['damage']\n",
    "print(f'ego vehicle damage: {d}')\n",
    "d = obstacle.sensors['damage'].data['damage']\n",
    "print(f'obstacle vehicle damage: {d}')\n"
   ]
  },
  {
   "cell_type": "code",
   "execution_count": null,
   "metadata": {},
   "outputs": [],
   "source": []
  }
 ]
}