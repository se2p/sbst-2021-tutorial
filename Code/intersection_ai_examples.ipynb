{
 "metadata": {
  "language_info": {
   "codemirror_mode": {
    "name": "ipython",
    "version": 3
   },
   "file_extension": ".py",
   "mimetype": "text/x-python",
   "name": "python",
   "nbconvert_exporter": "python",
   "pygments_lexer": "ipython3",
   "version": "3.8.10"
  },
  "orig_nbformat": 2,
  "kernelspec": {
   "name": "python3810jvsc74a57bd0fe1b80ee75ebc9faa42b305e6b3a192b75d563c20a5b12119379c065e0546886",
   "display_name": "Python 3.8.10 64-bit"
  }
 },
 "nbformat": 4,
 "nbformat_minor": 2,
 "cells": [
  {
   "cell_type": "code",
   "execution_count": 2,
   "metadata": {},
   "outputs": [],
   "source": [
    "from beamngpy import BeamNGpy, Scenario, Vehicle, Road, ScenarioObject\n",
    "from beamngpy.sensors import Damage\n",
    "import numpy as np\n",
    "from time import sleep, time"
   ]
  },
  {
   "source": [
    "# Collision Avoidance"
   ],
   "cell_type": "markdown",
   "metadata": {}
  },
  {
   "source": [
    "## Setting up Simulation Parameters "
   ],
   "cell_type": "markdown",
   "metadata": {}
  },
  {
   "cell_type": "code",
   "execution_count": 3,
   "metadata": {},
   "outputs": [],
   "source": [
    "beamng = BeamNGpy('localhost', 64256, user='D:/ros', home='D:/tech.0.21.x')\n",
    "bng = beamng.open(launch=True)\n",
    "bng.set_deterministic()"
   ]
  },
  {
   "source": [
    "## Scenario Definition"
   ],
   "cell_type": "markdown",
   "metadata": {}
  },
  {
   "cell_type": "code",
   "execution_count": 4,
   "metadata": {},
   "outputs": [],
   "source": [
    "def launch_scenario():\n",
    "    scenario = Scenario('smallgrid', 'Intersection')\n",
    "\n",
    "    road_a = Road('track_editor_C_center', rid='road_a')\n",
    "    road_a.nodes.extend([(0, 0, 0, 5),\n",
    "                        (100, 0, 0, 5)])\n",
    "    road_b = Road('track_editor_C_center', rid='road_b')\n",
    "    road_b.nodes.extend([(50, -50, 0, 5),\n",
    "                        (50, 50, 0, 5)])\n",
    "    scenario.add_road(road_a)\n",
    "    scenario.add_road(road_b)\n",
    "\n",
    "    ego = Vehicle('ego', model='etk800', color='Green')\n",
    "    pos = (0, 0, 0)\n",
    "    rot = (0, 0, -.707, .707)\n",
    "    damage = Damage()\n",
    "    ego.attach_sensor('damage', damage)\n",
    "    scenario.add_vehicle(ego, pos=pos, rot=None, rot_quat=rot)\n",
    "\n",
    "    obstacle = Vehicle('obstacle', model='etk800')\n",
    "    damage_o = Damage()\n",
    "    obstacle.attach_sensor('damage', damage_o)\n",
    "    pos = (50, -50, 0)\n",
    "    rot = (0, 0, 1, 0)\n",
    "    scenario.add_vehicle(obstacle, pos=pos, rot=None, rot_quat=rot)\n",
    "    scenario.make(bng)\n",
    "    bng.load_scenario(scenario)\n",
    "    bng.start_scenario()\n",
    "    bng.switch_vehicle(ego)\n",
    "    bng.pause()\n",
    "    return obstacle, ego\n"
   ]
  },
  {
   "source": [
    "## Defining Test Oracle"
   ],
   "cell_type": "markdown",
   "metadata": {}
  },
  {
   "cell_type": "code",
   "execution_count": 11,
   "metadata": {},
   "outputs": [],
   "source": [
    "def test(set_up_ai):\n",
    "    obstacle, ego = launch_scenario()\n",
    "    set_up_ai(ego, obstacle)\n",
    "    bng.resume()\n",
    "    sleep(20)\n",
    "    bng.pause()\n",
    "    ego.poll_sensors()\n",
    "    obstacle.poll_sensors()\n",
    "    ego_damage = ego.sensors['damage'].data['damage']\n",
    "    ego_pos = np.array(ego.sensors['state'].data['pos'])\n",
    "    ego_goal_pos = np.array([100, 0, 0])\n",
    "\n",
    "    obst_damage = obstacle.sensors['damage'].data['damage']\n",
    "    obst_pos = np.array(obstacle.sensors['state'].data['pos'])\n",
    "    obst_goal_pos = np.array([50, 50, 0])\n",
    "    epsilon = 1\n",
    "    test_damage = ego_damage > epsilon or obst_damage > epsilon\n",
    "    print(f'obst_pos: {obst_pos}')\n",
    "    print(f'obst_goal_pos:{obst_goal_pos}')\n",
    "    print(f'ego_pos: {ego_pos}')\n",
    "    print(f'ego_goal_pos:{ego_goal_pos}')\n",
    "    test_goal_pos = ((ego_pos - ego_goal_pos) > epsilon).any() or ((obst_pos - obst_goal_pos) > epsilon).any()\n",
    "    if test_damage or test_goal_pos:\n",
    "        print('failed')\n",
    "    else:\n",
    "        print('passed')           \n"
   ]
  },
  {
   "source": [
    "### Executing Tests"
   ],
   "cell_type": "markdown",
   "metadata": {}
  },
  {
   "cell_type": "code",
   "execution_count": 13,
   "metadata": {},
   "outputs": [
    {
     "output_type": "stream",
     "name": "stdout",
     "text": [
      "obst_pos: [50.7611351  41.1396904   0.20373693]\nobst_goal_pos:[50 50  0]\nego_pos: [92.68598175 -0.66686291  0.2044003 ]\nego_goal_pos:[100   0   0]\npassed\n"
     ]
    }
   ],
   "source": [
    "def wp1(ego, obstacle):\n",
    "    ego_script = [{'x':50, 'y':0, 'z':0, 't':15},\n",
    "              {'x':100, 'y':0, 'z':0, 't':23}, {'x':100, 'y':0, 'z':0, 't':29}]\n",
    "    ego.ai_set_script(ego_script)\n",
    "\n",
    "    obst_script = [{'x':50, 'y':0, 'z':0, 't':15},\n",
    "                   {'x':50, 'y':50, 'z':0, 't':25}, {'x':50, 'y':50, 'z':0, 't':29}]\n",
    "    obstacle.ai_set_script(obst_script)\n",
    "\n",
    "def no_crash():\n",
    "    test(wp1)\n",
    "\n",
    "no_crash()"
   ]
  },
  {
   "cell_type": "code",
   "execution_count": 18,
   "metadata": {},
   "outputs": [
    {
     "output_type": "stream",
     "name": "stdout",
     "text": [
      "obst_pos: [95.07091522 40.84128571  0.2041205 ]\nobst_goal_pos:[50 50  0]\nego_pos: [92.176651   42.774189    0.20338203]\nego_goal_pos:[100   0   0]\nfailed\n"
     ]
    }
   ],
   "source": [
    "def wp1(ego, obstacle):\n",
    "    ego_script = [{'x':50, 'y':0, 'z':0, 't':15},\n",
    "              {'x':100, 'y':0, 'z':0, 't':25}, {'x':100, 'y':0, 'z':0, 't':29}]\n",
    "    ego.ai_set_script(ego_script)\n",
    "\n",
    "    obst_script = [{'x':50, 'y':0, 'z':0, 't':15},\n",
    "                   {'x':50, 'y':50, 'z':0, 't':25}, {'x':50, 'y':50, 'z':0, 't':29}]\n",
    "    obstacle.ai_set_script(obst_script)\n",
    "\n",
    "def crash():\n",
    "    test(wp1)\n",
    "\n",
    "crash()"
   ]
  },
  {
   "cell_type": "code",
   "execution_count": null,
   "metadata": {},
   "outputs": [],
   "source": []
  }
 ]
}