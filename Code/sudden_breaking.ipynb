{
 "metadata": {
  "language_info": {
   "codemirror_mode": {
    "name": "ipython",
    "version": 3
   },
   "file_extension": ".py",
   "mimetype": "text/x-python",
   "name": "python",
   "nbconvert_exporter": "python",
   "pygments_lexer": "ipython3",
   "version": "3.8.10"
  },
  "orig_nbformat": 2,
  "kernelspec": {
   "name": "python3810jvsc74a57bd0fe1b80ee75ebc9faa42b305e6b3a192b75d563c20a5b12119379c065e0546886",
   "display_name": "Python 3.8.10 64-bit ('bng': venv)"
  }
 },
 "nbformat": 4,
 "nbformat_minor": 2,
 "cells": [
  {
   "cell_type": "code",
   "execution_count": 4,
   "metadata": {},
   "outputs": [],
   "source": [
    "from beamngpy import BeamNGpy, Scenario, Vehicle"
   ]
  },
  {
   "cell_type": "code",
   "execution_count": 9,
   "metadata": {},
   "outputs": [],
   "source": [
    "beamng = BeamNGpy('localhost', 64256, user='D:/ros', home='D:/BeamNG/game')\n",
    "bng = beamng.open()\n",
    "bng.set_steps_per_second(50)\n",
    "bng.set_deterministic()\n",
    "scenario = Scenario('Utah', 'ai_test')\n",
    "ego = Vehicle('test_car', model='etk800')\n",
    "pos = (-535.08, -900.9, 134.73)\n",
    "rot = (0, 0, 0.715, 0.699)\n",
    "scenario.add_vehicle(ego, pos=pos, rot=None, rot_quat=rot)\n",
    "scenario.make(bng)\n",
    "bng.load_scenario(scenario)\n",
    "bng.start_scenario()\n",
    "bng.pause()\n",
    "bng.switch_vehicle(ego)\n",
    "vehicle.ai_set_mode('manual')\n",
    "ego.ai_set_waypoint('ut_wp_53')\n",
    "ego.ai_set_waypoint('ut_wp_53')\n",
    "    \n"
   ]
  },
  {
   "cell_type": "code",
   "execution_count": null,
   "metadata": {},
   "outputs": [],
   "source": []
  }
 ]
}